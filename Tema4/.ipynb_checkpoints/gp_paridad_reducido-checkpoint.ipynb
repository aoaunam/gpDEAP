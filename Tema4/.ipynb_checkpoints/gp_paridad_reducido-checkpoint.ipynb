{
 "cells": [
  {
   "cell_type": "markdown",
   "id": "1d3dfbab",
   "metadata": {},
   "source": [
    "# GP crea un circuito de paridad non reducido\n",
    "El valor de salida debe ser 1 si el número de entradas con el valor 1 es impar, produciendo así un número par total de 1 valores; de lo contrario, el valor de salida debe ser 0.\n",
    "\n",
    "Hay muchas maneras posibles de implementar la comprobación de paridad de tres entradas utilizando puertas lógicas. La forma más sencilla de hacerlo es mediante el uso de dos puertas XOR.\n",
    "\n",
    "## Módulos requeridos para nuestra evolución.\n",
    "- `deap`\n",
    "- `random`\n",
    "- `operator`\n",
    "- `numpy`\n",
    "- `itertools`\n",
    "- `matplotlib`\n",
    "- `networkx`\n",
    "\n",
    "## Módulos creados\n",
    "- `elitism`"
   ]
  },
  {
   "cell_type": "code",
   "execution_count": 1,
   "id": "02cc1cad",
   "metadata": {
    "collapsed": false,
    "jupyter": {
     "outputs_hidden": false
    },
    "tags": []
   },
   "outputs": [],
   "source": [
    "import random\n",
    "import operator\n",
    "\n",
    "import numpy as np\n",
    "\n",
    "from deap import base\n",
    "from deap import creator\n",
    "from deap import tools\n",
    "from deap import gp\n",
    "\n",
    "import itertools\n",
    "import matplotlib.pyplot as plt\n",
    "import networkx as nx\n",
    "\n",
    "import elitism\n",
    "\n",
    "# problem constants:\n",
    "NUM_INPUTS = 3\n",
    "NUM_COMBINATIONS = 2 ** NUM_INPUTS\n",
    "\n",
    "# Genetic Algorithm constants:\n",
    "POPULATION_SIZE = 60\n",
    "P_CROSSOVER = 0.9\n",
    "P_MUTATION = 0.5\n",
    "MAX_GENERATIONS = 20\n",
    "HALL_OF_FAME_SIZE = 10\n",
    "\n",
    "# Genetic Programming specific constans:\n",
    "MIN_TREE_HEIGHT = 3\n",
    "MAX_TREE_HEIGHT = 5\n",
    "LIMIT_TREE_HEIGHT = 17\n",
    "MUT_MIN_TREE_HEIGHT = 0\n",
    "MUT_MAX_TREE_HEIGHT = 2\n",
    "\n",
    "\n",
    "# set the random seed:\n",
    "RANDOM_SEED = 42\n",
    "random.seed(RANDOM_SEED)\n",
    "\n",
    "toolbox = base.Toolbox()\n",
    "\n",
    "# calculate the truth table of even parity check:\n",
    "parityIn = list(itertools.product([0, 1], repeat=NUM_INPUTS))\n",
    "parityOut = []\n",
    "for row in parityIn:\n",
    "    parityOut.append(sum(row) % 2)\n",
    "\n",
    "# create the primitive set:\n",
    "primitiveSet = gp.PrimitiveSet(\"main\", NUM_INPUTS, \"in_\")\n",
    "primitiveSet.addPrimitive(operator.and_, 2)\n",
    "primitiveSet.addPrimitive(operator.or_, 2)\n",
    "primitiveSet.addPrimitive(operator.xor, 2)\n",
    "primitiveSet.addPrimitive(operator.not_, 1)\n",
    "\n",
    "# add terminal values:\n",
    "primitiveSet.addTerminal(1)\n",
    "primitiveSet.addTerminal(0)\n",
    "\n",
    "# define a single objective, minimizing fitness strategy:\n",
    "creator.create(\"FitnessMin\", base.Fitness, weights=(-1.0,))\n",
    "\n",
    "# create the Individual class based on the primitive tree:\n",
    "creator.create(\"Individual\", gp.PrimitiveTree, fitness=creator.FitnessMin)\n",
    "\n",
    "# create a helper function for creating random trees using the primitive set:\n",
    "toolbox.register(\"expr\", gp.genFull, pset=primitiveSet, min_=MIN_TREE_HEIGHT, max_=MAX_TREE_HEIGHT)\n",
    "\n",
    "# create the individual operator to fill up an Individual instance:\n",
    "toolbox.register(\"individualCreator\", tools.initIterate, creator.Individual, toolbox.expr)\n",
    "\n",
    "# create the population operator to generate a list of individuals:\n",
    "toolbox.register(\"populationCreator\", tools.initRepeat, list, toolbox.individualCreator)\n",
    "\n",
    "# create an operator to compile the primitive tree into python code:\n",
    "toolbox.register(\"compile\", gp.compile, pset=primitiveSet)\n"
   ]
  },
  {
   "cell_type": "markdown",
   "id": "ea94d892",
   "metadata": {},
   "source": [
    "## Evaluación de la Funciones"
   ]
  },
  {
   "cell_type": "code",
   "execution_count": 2,
   "id": "702a7afc",
   "metadata": {
    "collapsed": false,
    "jupyter": {
     "outputs_hidden": false
    },
    "tags": []
   },
   "outputs": [],
   "source": [
    "# calculate the difference between the results of the\n",
    "# generated function and the expected parity results:\n",
    "def parityError(individual):\n",
    "    func = toolbox.compile(expr=individual)\n",
    "    return sum(func(*pIn) != pOut for pIn, pOut in zip(parityIn, parityOut))\n",
    "\n",
    "# fitness measure:\n",
    "def getCost(individual):\n",
    "    return parityError(individual) + individual.height / 100, # return a tuple\n"
   ]
  },
  {
   "cell_type": "markdown",
   "id": "56af98be",
   "metadata": {},
   "source": [
    "## Operadores Genéticos"
   ]
  },
  {
   "cell_type": "code",
   "execution_count": 3,
   "id": "412d7141",
   "metadata": {
    "collapsed": false,
    "jupyter": {
     "outputs_hidden": false
    },
    "tags": []
   },
   "outputs": [],
   "source": [
    "toolbox.register(\"evaluate\", getCost)\n",
    "\n",
    "# genetic operators:\n",
    "toolbox.register(\"select\", tools.selTournament, tournsize=2)\n",
    "toolbox.register(\"mate\", gp.cxOnePoint)\n",
    "toolbox.register(\"expr_mut\", gp.genGrow, min_=MUT_MIN_TREE_HEIGHT, max_=MUT_MAX_TREE_HEIGHT)\n",
    "toolbox.register(\"mutate\", gp.mutUniform, expr=toolbox.expr_mut, pset=primitiveSet)\n",
    "\n",
    "# bloat control:\n",
    "toolbox.decorate(\"mate\", gp.staticLimit(key=operator.attrgetter(\"height\"), max_value=LIMIT_TREE_HEIGHT))\n",
    "toolbox.decorate(\"mutate\", gp.staticLimit(key=operator.attrgetter(\"height\"), max_value=LIMIT_TREE_HEIGHT))\n"
   ]
  },
  {
   "cell_type": "markdown",
   "id": "5a1a859c",
   "metadata": {},
   "source": [
    "## Evolución de la población"
   ]
  },
  {
   "cell_type": "code",
   "execution_count": 4,
   "id": "b0e40db1-3032-4c1e-84f6-73d0f63fbb66",
   "metadata": {
    "tags": []
   },
   "outputs": [
    {
     "name": "stdout",
     "output_type": "stream",
     "text": [
      "gen\tnevals\tmin \tavg   \n",
      "0  \t60    \t2.03\t3.9565\n",
      "1  \t50    \t2.03\t3.7885\n",
      "2  \t49    \t2.03\t3.7565\n",
      "3  \t47    \t2.03\t3.35667\n",
      "4  \t49    \t2.03\t3.4365 \n",
      "5  \t47    \t0.04\t3.45233\n",
      "6  \t45    \t0.04\t3.3835 \n",
      "7  \t48    \t0.04\t3.44767\n",
      "8  \t48    \t0.04\t3.16333\n",
      "9  \t50    \t0.04\t3.08   \n",
      "10 \t48    \t0.03\t3.0145 \n",
      "11 \t48    \t0.03\t3.2675 \n",
      "12 \t49    \t0.03\t3.4505 \n",
      "13 \t46    \t0.03\t3.26367\n",
      "14 \t47    \t0.03\t2.94417\n",
      "15 \t49    \t0.02\t2.57983\n",
      "16 \t46    \t0.02\t2.5685 \n",
      "17 \t48    \t0.02\t2.67167\n",
      "18 \t46    \t0.02\t2.50083\n",
      "19 \t48    \t0.02\t2.71583\n",
      "20 \t45    \t0.02\t2.88533\n",
      "-- Best Individual =  xor(xor(in_0, in_1), in_2)\n",
      "-- length=5, height=2\n",
      "-- Best Fitness =  0.02\n"
     ]
    },
    {
     "data": {
      "image/png": "[encoded data removed]",
      "text/plain": [
       "<Figure size 640x480 with 1 Axes>"
      ]
     },
     "metadata": {},
     "output_type": "display_data"
    }
   ],
   "source": [
    "# Genetic Algorithm flow:\n",
    "def main():\n",
    "    # create initial population (generation 0):\n",
    "    population = toolbox.populationCreator(n=POPULATION_SIZE)\n",
    "\n",
    "    # prepare the statistics object:\n",
    "    stats = tools.Statistics(lambda ind: ind.fitness.values)\n",
    "    stats.register(\"min\", np.min)\n",
    "    stats.register(\"avg\", np.mean)\n",
    "\n",
    "    # define the hall-of-fame object:\n",
    "    hof = tools.HallOfFame(HALL_OF_FAME_SIZE)\n",
    "\n",
    "    # perform the Genetic Algorithm flow with elitism:\n",
    "    population, logbook = elitism.eaSimpleWithElitism(population,\n",
    "                                                      toolbox,\n",
    "                                                      cxpb=P_CROSSOVER,\n",
    "                                                      mutpb=P_MUTATION,\n",
    "                                                      ngen=MAX_GENERATIONS,\n",
    "                                                      stats=stats,\n",
    "                                                      halloffame=hof,\n",
    "                                                      verbose=True)\n",
    "\n",
    "    # print info for best solution found:\n",
    "    best = hof.items[0]\n",
    "    print(\"-- Best Individual = \", best)\n",
    "    print(\"-- length={}, height={}\".format(len(best), best.height))\n",
    "    print(\"-- Best Fitness = \", best.fitness.values[0])\n",
    "\n",
    "    # plot best tree:\n",
    "    nodes, edges, labels = gp.graph(best)\n",
    "    g = nx.Graph()\n",
    "    g.add_nodes_from(nodes)\n",
    "    g.add_edges_from(edges)\n",
    "    pos = nx.spring_layout(g)\n",
    "\n",
    "    nx.draw_networkx_nodes(g, pos, node_color='cyan')\n",
    "    nx.draw_networkx_nodes(g, pos, nodelist=[0], node_color='red', node_size=400)\n",
    "\n",
    "    nx.draw_networkx_edges(g, pos)\n",
    "    nx.draw_networkx_labels(g, pos, **{\"labels\": labels, \"font_size\": 8})\n",
    "\n",
    "    plt.show()\n",
    "\n",
    "\n",
    "if __name__ == \"__main__\":\n",
    "    main()"
   ]
  },
  {
   "cell_type": "code",
   "execution_count": null,
   "id": "e0ad3cad-a6be-49de-b390-e48813b1b451",
   "metadata": {},
   "outputs": [],
   "source": []
  }
 ],
 "metadata": {
  "kernelspec": {
   "display_name": "Python 3 (ipykernel)",
   "language": "python",
   "name": "python3"
  },
  "language_info": {
   "codemirror_mode": {
    "name": "ipython",
    "version": 3
   },
   "file_extension": ".py",
   "mimetype": "text/x-python",
   "name": "python",
   "nbconvert_exporter": "python",
   "pygments_lexer": "ipython3",
   "version": "3.10.10"
  }
 },
 "nbformat": 4,
 "nbformat_minor": 5
}
